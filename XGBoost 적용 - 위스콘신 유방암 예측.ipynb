{
 "cells": [
  {
   "cell_type": "code",
   "execution_count": 5,
   "metadata": {},
   "outputs": [],
   "source": [
    "import xgboost as xgb\n",
    "from xgboost import plot_importance\n",
    "\n",
    "import pandas as pd\n",
    "import numpy as np \n",
    "\n",
    "from sklearn.datasets import load_breast_cancer\n",
    "from sklearn.model_selection import train_test_split"
   ]
  },
  {
   "cell_type": "code",
   "execution_count": 9,
   "metadata": {},
   "outputs": [],
   "source": [
    "dataset=load_breast_cancer()"
   ]
  },
  {
   "cell_type": "code",
   "execution_count": 16,
   "metadata": {},
   "outputs": [],
   "source": [
    "x_features = dataset.data\n",
    "y_label = dataset.target"
   ]
  },
  {
   "cell_type": "code",
   "execution_count": 18,
   "metadata": {},
   "outputs": [],
   "source": [
    "cancer_df = pd.DataFrame(data=x_features, columns=dataset.feature_names)"
   ]
  },
  {
   "cell_type": "code",
   "execution_count": 20,
   "metadata": {},
   "outputs": [],
   "source": [
    "cancer_df['target'] = y_label"
   ]
  },
  {
   "cell_type": "code",
   "execution_count": 21,
   "metadata": {
    "scrolled": true
   },
   "outputs": [
    {
     "data": {
      "text/html": [
       "<div>\n",
       "<style scoped>\n",
       "    .dataframe tbody tr th:only-of-type {\n",
       "        vertical-align: middle;\n",
       "    }\n",
       "\n",
       "    .dataframe tbody tr th {\n",
       "        vertical-align: top;\n",
       "    }\n",
       "\n",
       "    .dataframe thead th {\n",
       "        text-align: right;\n",
       "    }\n",
       "</style>\n",
       "<table border=\"1\" class=\"dataframe\">\n",
       "  <thead>\n",
       "    <tr style=\"text-align: right;\">\n",
       "      <th></th>\n",
       "      <th>mean radius</th>\n",
       "      <th>mean texture</th>\n",
       "      <th>mean perimeter</th>\n",
       "      <th>mean area</th>\n",
       "      <th>mean smoothness</th>\n",
       "      <th>mean compactness</th>\n",
       "      <th>mean concavity</th>\n",
       "      <th>mean concave points</th>\n",
       "      <th>mean symmetry</th>\n",
       "      <th>mean fractal dimension</th>\n",
       "      <th>...</th>\n",
       "      <th>worst texture</th>\n",
       "      <th>worst perimeter</th>\n",
       "      <th>worst area</th>\n",
       "      <th>worst smoothness</th>\n",
       "      <th>worst compactness</th>\n",
       "      <th>worst concavity</th>\n",
       "      <th>worst concave points</th>\n",
       "      <th>worst symmetry</th>\n",
       "      <th>worst fractal dimension</th>\n",
       "      <th>target</th>\n",
       "    </tr>\n",
       "  </thead>\n",
       "  <tbody>\n",
       "    <tr>\n",
       "      <th>0</th>\n",
       "      <td>17.99</td>\n",
       "      <td>10.38</td>\n",
       "      <td>122.80</td>\n",
       "      <td>1001.0</td>\n",
       "      <td>0.11840</td>\n",
       "      <td>0.27760</td>\n",
       "      <td>0.3001</td>\n",
       "      <td>0.14710</td>\n",
       "      <td>0.2419</td>\n",
       "      <td>0.07871</td>\n",
       "      <td>...</td>\n",
       "      <td>17.33</td>\n",
       "      <td>184.60</td>\n",
       "      <td>2019.0</td>\n",
       "      <td>0.1622</td>\n",
       "      <td>0.6656</td>\n",
       "      <td>0.7119</td>\n",
       "      <td>0.2654</td>\n",
       "      <td>0.4601</td>\n",
       "      <td>0.11890</td>\n",
       "      <td>0</td>\n",
       "    </tr>\n",
       "    <tr>\n",
       "      <th>1</th>\n",
       "      <td>20.57</td>\n",
       "      <td>17.77</td>\n",
       "      <td>132.90</td>\n",
       "      <td>1326.0</td>\n",
       "      <td>0.08474</td>\n",
       "      <td>0.07864</td>\n",
       "      <td>0.0869</td>\n",
       "      <td>0.07017</td>\n",
       "      <td>0.1812</td>\n",
       "      <td>0.05667</td>\n",
       "      <td>...</td>\n",
       "      <td>23.41</td>\n",
       "      <td>158.80</td>\n",
       "      <td>1956.0</td>\n",
       "      <td>0.1238</td>\n",
       "      <td>0.1866</td>\n",
       "      <td>0.2416</td>\n",
       "      <td>0.1860</td>\n",
       "      <td>0.2750</td>\n",
       "      <td>0.08902</td>\n",
       "      <td>0</td>\n",
       "    </tr>\n",
       "    <tr>\n",
       "      <th>2</th>\n",
       "      <td>19.69</td>\n",
       "      <td>21.25</td>\n",
       "      <td>130.00</td>\n",
       "      <td>1203.0</td>\n",
       "      <td>0.10960</td>\n",
       "      <td>0.15990</td>\n",
       "      <td>0.1974</td>\n",
       "      <td>0.12790</td>\n",
       "      <td>0.2069</td>\n",
       "      <td>0.05999</td>\n",
       "      <td>...</td>\n",
       "      <td>25.53</td>\n",
       "      <td>152.50</td>\n",
       "      <td>1709.0</td>\n",
       "      <td>0.1444</td>\n",
       "      <td>0.4245</td>\n",
       "      <td>0.4504</td>\n",
       "      <td>0.2430</td>\n",
       "      <td>0.3613</td>\n",
       "      <td>0.08758</td>\n",
       "      <td>0</td>\n",
       "    </tr>\n",
       "    <tr>\n",
       "      <th>3</th>\n",
       "      <td>11.42</td>\n",
       "      <td>20.38</td>\n",
       "      <td>77.58</td>\n",
       "      <td>386.1</td>\n",
       "      <td>0.14250</td>\n",
       "      <td>0.28390</td>\n",
       "      <td>0.2414</td>\n",
       "      <td>0.10520</td>\n",
       "      <td>0.2597</td>\n",
       "      <td>0.09744</td>\n",
       "      <td>...</td>\n",
       "      <td>26.50</td>\n",
       "      <td>98.87</td>\n",
       "      <td>567.7</td>\n",
       "      <td>0.2098</td>\n",
       "      <td>0.8663</td>\n",
       "      <td>0.6869</td>\n",
       "      <td>0.2575</td>\n",
       "      <td>0.6638</td>\n",
       "      <td>0.17300</td>\n",
       "      <td>0</td>\n",
       "    </tr>\n",
       "    <tr>\n",
       "      <th>4</th>\n",
       "      <td>20.29</td>\n",
       "      <td>14.34</td>\n",
       "      <td>135.10</td>\n",
       "      <td>1297.0</td>\n",
       "      <td>0.10030</td>\n",
       "      <td>0.13280</td>\n",
       "      <td>0.1980</td>\n",
       "      <td>0.10430</td>\n",
       "      <td>0.1809</td>\n",
       "      <td>0.05883</td>\n",
       "      <td>...</td>\n",
       "      <td>16.67</td>\n",
       "      <td>152.20</td>\n",
       "      <td>1575.0</td>\n",
       "      <td>0.1374</td>\n",
       "      <td>0.2050</td>\n",
       "      <td>0.4000</td>\n",
       "      <td>0.1625</td>\n",
       "      <td>0.2364</td>\n",
       "      <td>0.07678</td>\n",
       "      <td>0</td>\n",
       "    </tr>\n",
       "  </tbody>\n",
       "</table>\n",
       "<p>5 rows × 31 columns</p>\n",
       "</div>"
      ],
      "text/plain": [
       "   mean radius  mean texture  mean perimeter  mean area  mean smoothness  \\\n",
       "0        17.99         10.38          122.80     1001.0          0.11840   \n",
       "1        20.57         17.77          132.90     1326.0          0.08474   \n",
       "2        19.69         21.25          130.00     1203.0          0.10960   \n",
       "3        11.42         20.38           77.58      386.1          0.14250   \n",
       "4        20.29         14.34          135.10     1297.0          0.10030   \n",
       "\n",
       "   mean compactness  mean concavity  mean concave points  mean symmetry  \\\n",
       "0           0.27760          0.3001              0.14710         0.2419   \n",
       "1           0.07864          0.0869              0.07017         0.1812   \n",
       "2           0.15990          0.1974              0.12790         0.2069   \n",
       "3           0.28390          0.2414              0.10520         0.2597   \n",
       "4           0.13280          0.1980              0.10430         0.1809   \n",
       "\n",
       "   mean fractal dimension  ...  worst texture  worst perimeter  worst area  \\\n",
       "0                 0.07871  ...          17.33           184.60      2019.0   \n",
       "1                 0.05667  ...          23.41           158.80      1956.0   \n",
       "2                 0.05999  ...          25.53           152.50      1709.0   \n",
       "3                 0.09744  ...          26.50            98.87       567.7   \n",
       "4                 0.05883  ...          16.67           152.20      1575.0   \n",
       "\n",
       "   worst smoothness  worst compactness  worst concavity  worst concave points  \\\n",
       "0            0.1622             0.6656           0.7119                0.2654   \n",
       "1            0.1238             0.1866           0.2416                0.1860   \n",
       "2            0.1444             0.4245           0.4504                0.2430   \n",
       "3            0.2098             0.8663           0.6869                0.2575   \n",
       "4            0.1374             0.2050           0.4000                0.1625   \n",
       "\n",
       "   worst symmetry  worst fractal dimension  target  \n",
       "0          0.4601                  0.11890       0  \n",
       "1          0.2750                  0.08902       0  \n",
       "2          0.3613                  0.08758       0  \n",
       "3          0.6638                  0.17300       0  \n",
       "4          0.2364                  0.07678       0  \n",
       "\n",
       "[5 rows x 31 columns]"
      ]
     },
     "execution_count": 21,
     "metadata": {},
     "output_type": "execute_result"
    }
   ],
   "source": [
    "cancer_df.head()"
   ]
  },
  {
   "cell_type": "code",
   "execution_count": 23,
   "metadata": {},
   "outputs": [
    {
     "data": {
      "text/plain": [
       "1    357\n",
       "0    212\n",
       "Name: target, dtype: int64"
      ]
     },
     "execution_count": 23,
     "metadata": {},
     "output_type": "execute_result"
    }
   ],
   "source": [
    "cancer_df['target'].value_counts()"
   ]
  },
  {
   "cell_type": "code",
   "execution_count": 26,
   "metadata": {},
   "outputs": [],
   "source": [
    "x = cancer_df[cancer_df.columns.difference(['target'])]"
   ]
  },
  {
   "cell_type": "code",
   "execution_count": 28,
   "metadata": {},
   "outputs": [],
   "source": [
    "y = cancer_df['target']"
   ]
  },
  {
   "cell_type": "code",
   "execution_count": 29,
   "metadata": {},
   "outputs": [],
   "source": [
    "x_train, x_test, y_train, y_test = train_test_split(\n",
    "x, y, test_size=0.2, random_state=42)"
   ]
  },
  {
   "cell_type": "code",
   "execution_count": 30,
   "metadata": {},
   "outputs": [
    {
     "data": {
      "text/plain": [
       "(455, 30)"
      ]
     },
     "execution_count": 30,
     "metadata": {},
     "output_type": "execute_result"
    }
   ],
   "source": [
    "x_train.shape"
   ]
  },
  {
   "cell_type": "code",
   "execution_count": 32,
   "metadata": {},
   "outputs": [],
   "source": [
    "dtrain = xgb.DMatrix(data=x_train, label=y_train)\n",
    "dtest = xgb.DMatrix(data=x_test, label=y_test)"
   ]
  },
  {
   "cell_type": "code",
   "execution_count": 34,
   "metadata": {},
   "outputs": [],
   "source": [
    "params={'max_depth':3,\n",
    "       'eta':0.1,\n",
    "       'objective':'binary:logistic',\n",
    "       'eval_metric':'logloss',\n",
    "       'early_stoppings':100}\n",
    "\n",
    "num_rounds = 400"
   ]
  },
  {
   "cell_type": "code",
   "execution_count": 35,
   "metadata": {},
   "outputs": [],
   "source": [
    "wlist = [(dtrain,'train'),(dtest,'eval')]"
   ]
  },
  {
   "cell_type": "code",
   "execution_count": 37,
   "metadata": {},
   "outputs": [
    {
     "name": "stdout",
     "output_type": "stream",
     "text": [
      "[16:48:42] WARNING: C:\\Users\\Administrator\\workspace\\xgboost-win64_release_1.2.0\\src\\learner.cc:516: \n",
      "Parameters: { early_stoppings } might not be used.\n",
      "\n",
      "  This may not be accurate due to some parameters are only used in language bindings but\n",
      "  passed down to XGBoost core.  Or some parameters are not used but slip through this\n",
      "  verification. Please open an issue if you find above cases.\n",
      "\n",
      "\n",
      "[0]\ttrain-logloss:0.60961\teval-logloss:0.61363\n",
      "Multiple eval metrics have been passed: 'eval-logloss' will be used for early stopping.\n",
      "\n",
      "Will train until eval-logloss hasn't improved in 100 rounds.\n",
      "[1]\ttrain-logloss:0.54076\teval-logloss:0.54574\n",
      "[2]\ttrain-logloss:0.48404\teval-logloss:0.49427\n",
      "[3]\ttrain-logloss:0.43322\teval-logloss:0.44528\n",
      "[4]\ttrain-logloss:0.38980\teval-logloss:0.40486\n",
      "[5]\ttrain-logloss:0.35208\teval-logloss:0.36893\n",
      "[6]\ttrain-logloss:0.31943\teval-logloss:0.33821\n",
      "[7]\ttrain-logloss:0.29134\teval-logloss:0.31335\n",
      "[8]\ttrain-logloss:0.26603\teval-logloss:0.28967\n",
      "[9]\ttrain-logloss:0.24389\teval-logloss:0.27052\n",
      "[10]\ttrain-logloss:0.22448\teval-logloss:0.25173\n",
      "[11]\ttrain-logloss:0.20736\teval-logloss:0.23835\n",
      "[12]\ttrain-logloss:0.19175\teval-logloss:0.22206\n",
      "[13]\ttrain-logloss:0.17739\teval-logloss:0.20903\n",
      "[14]\ttrain-logloss:0.16490\teval-logloss:0.20006\n",
      "[15]\ttrain-logloss:0.15358\teval-logloss:0.18782\n",
      "[16]\ttrain-logloss:0.14364\teval-logloss:0.18004\n",
      "[17]\ttrain-logloss:0.13391\teval-logloss:0.17070\n",
      "[18]\ttrain-logloss:0.12470\teval-logloss:0.15942\n",
      "[19]\ttrain-logloss:0.11697\teval-logloss:0.15452\n",
      "[20]\ttrain-logloss:0.10969\teval-logloss:0.14571\n",
      "[21]\ttrain-logloss:0.10288\teval-logloss:0.14221\n",
      "[22]\ttrain-logloss:0.09674\teval-logloss:0.13668\n",
      "[23]\ttrain-logloss:0.09110\teval-logloss:0.13270\n",
      "[24]\ttrain-logloss:0.08634\teval-logloss:0.12682\n",
      "[25]\ttrain-logloss:0.08158\teval-logloss:0.12422\n",
      "[26]\ttrain-logloss:0.07750\teval-logloss:0.12206\n",
      "[27]\ttrain-logloss:0.07326\teval-logloss:0.11919\n",
      "[28]\ttrain-logloss:0.06969\teval-logloss:0.11602\n",
      "[29]\ttrain-logloss:0.06627\teval-logloss:0.11455\n",
      "[30]\ttrain-logloss:0.06330\teval-logloss:0.11421\n",
      "[31]\ttrain-logloss:0.06008\teval-logloss:0.11185\n",
      "[32]\ttrain-logloss:0.05754\teval-logloss:0.10960\n",
      "[33]\ttrain-logloss:0.05508\teval-logloss:0.10899\n",
      "[34]\ttrain-logloss:0.05225\teval-logloss:0.10840\n",
      "[35]\ttrain-logloss:0.04990\teval-logloss:0.10683\n",
      "[36]\ttrain-logloss:0.04776\teval-logloss:0.10789\n",
      "[37]\ttrain-logloss:0.04578\teval-logloss:0.10663\n",
      "[38]\ttrain-logloss:0.04378\teval-logloss:0.10743\n",
      "[39]\ttrain-logloss:0.04190\teval-logloss:0.10501\n",
      "[40]\ttrain-logloss:0.03998\teval-logloss:0.10513\n",
      "[41]\ttrain-logloss:0.03866\teval-logloss:0.10331\n",
      "[42]\ttrain-logloss:0.03724\teval-logloss:0.10257\n",
      "[43]\ttrain-logloss:0.03566\teval-logloss:0.10202\n",
      "[44]\ttrain-logloss:0.03451\teval-logloss:0.10259\n",
      "[45]\ttrain-logloss:0.03313\teval-logloss:0.10314\n",
      "[46]\ttrain-logloss:0.03199\teval-logloss:0.10302\n",
      "[47]\ttrain-logloss:0.03107\teval-logloss:0.10173\n",
      "[48]\ttrain-logloss:0.02997\teval-logloss:0.09917\n",
      "[49]\ttrain-logloss:0.02889\teval-logloss:0.09939\n",
      "[50]\ttrain-logloss:0.02787\teval-logloss:0.09967\n",
      "[51]\ttrain-logloss:0.02707\teval-logloss:0.09918\n",
      "[52]\ttrain-logloss:0.02620\teval-logloss:0.09965\n",
      "[53]\ttrain-logloss:0.02542\teval-logloss:0.09782\n",
      "[54]\ttrain-logloss:0.02460\teval-logloss:0.09814\n",
      "[55]\ttrain-logloss:0.02401\teval-logloss:0.09735\n",
      "[56]\ttrain-logloss:0.02328\teval-logloss:0.09711\n",
      "[57]\ttrain-logloss:0.02264\teval-logloss:0.09693\n",
      "[58]\ttrain-logloss:0.02199\teval-logloss:0.09677\n",
      "[59]\ttrain-logloss:0.02143\teval-logloss:0.09721\n",
      "[60]\ttrain-logloss:0.02087\teval-logloss:0.09708\n",
      "[61]\ttrain-logloss:0.02038\teval-logloss:0.09776\n",
      "[62]\ttrain-logloss:0.01992\teval-logloss:0.09808\n",
      "[63]\ttrain-logloss:0.01947\teval-logloss:0.09815\n",
      "[64]\ttrain-logloss:0.01897\teval-logloss:0.09824\n",
      "[65]\ttrain-logloss:0.01860\teval-logloss:0.09752\n",
      "[66]\ttrain-logloss:0.01824\teval-logloss:0.09733\n",
      "[67]\ttrain-logloss:0.01782\teval-logloss:0.09841\n",
      "[68]\ttrain-logloss:0.01745\teval-logloss:0.09836\n",
      "[69]\ttrain-logloss:0.01705\teval-logloss:0.09831\n",
      "[70]\ttrain-logloss:0.01668\teval-logloss:0.09733\n",
      "[71]\ttrain-logloss:0.01633\teval-logloss:0.09704\n",
      "[72]\ttrain-logloss:0.01602\teval-logloss:0.09792\n",
      "[73]\ttrain-logloss:0.01573\teval-logloss:0.09838\n",
      "[74]\ttrain-logloss:0.01544\teval-logloss:0.09781\n",
      "[75]\ttrain-logloss:0.01513\teval-logloss:0.09693\n",
      "[76]\ttrain-logloss:0.01488\teval-logloss:0.09574\n",
      "[77]\ttrain-logloss:0.01454\teval-logloss:0.09638\n",
      "[78]\ttrain-logloss:0.01426\teval-logloss:0.09655\n",
      "[79]\ttrain-logloss:0.01400\teval-logloss:0.09688\n",
      "[80]\ttrain-logloss:0.01381\teval-logloss:0.09717\n",
      "[81]\ttrain-logloss:0.01358\teval-logloss:0.09735\n",
      "[82]\ttrain-logloss:0.01335\teval-logloss:0.09770\n",
      "[83]\ttrain-logloss:0.01307\teval-logloss:0.09900\n",
      "[84]\ttrain-logloss:0.01292\teval-logloss:0.09926\n",
      "[85]\ttrain-logloss:0.01280\teval-logloss:0.09861\n",
      "[86]\ttrain-logloss:0.01265\teval-logloss:0.09829\n",
      "[87]\ttrain-logloss:0.01246\teval-logloss:0.09792\n",
      "[88]\ttrain-logloss:0.01232\teval-logloss:0.09726\n",
      "[89]\ttrain-logloss:0.01218\teval-logloss:0.09687\n",
      "[90]\ttrain-logloss:0.01208\teval-logloss:0.09685\n",
      "[91]\ttrain-logloss:0.01190\teval-logloss:0.09788\n",
      "[92]\ttrain-logloss:0.01180\teval-logloss:0.09725\n",
      "[93]\ttrain-logloss:0.01168\teval-logloss:0.09649\n",
      "[94]\ttrain-logloss:0.01156\teval-logloss:0.09675\n",
      "[95]\ttrain-logloss:0.01146\teval-logloss:0.09613\n",
      "[96]\ttrain-logloss:0.01137\teval-logloss:0.09617\n",
      "[97]\ttrain-logloss:0.01126\teval-logloss:0.09643\n",
      "[98]\ttrain-logloss:0.01111\teval-logloss:0.09724\n",
      "[99]\ttrain-logloss:0.01098\teval-logloss:0.09740\n",
      "[100]\ttrain-logloss:0.01083\teval-logloss:0.09750\n",
      "[101]\ttrain-logloss:0.01075\teval-logloss:0.09691\n",
      "[102]\ttrain-logloss:0.01065\teval-logloss:0.09721\n",
      "[103]\ttrain-logloss:0.01055\teval-logloss:0.09695\n",
      "[104]\ttrain-logloss:0.01042\teval-logloss:0.09774\n",
      "[105]\ttrain-logloss:0.01030\teval-logloss:0.09790\n",
      "[106]\ttrain-logloss:0.01023\teval-logloss:0.09734\n",
      "[107]\ttrain-logloss:0.01014\teval-logloss:0.09760\n",
      "[108]\ttrain-logloss:0.01004\teval-logloss:0.09698\n",
      "[109]\ttrain-logloss:0.00997\teval-logloss:0.09706\n",
      "[110]\ttrain-logloss:0.00988\teval-logloss:0.09732\n",
      "[111]\ttrain-logloss:0.00978\teval-logloss:0.09700\n",
      "[112]\ttrain-logloss:0.00966\teval-logloss:0.09736\n",
      "[113]\ttrain-logloss:0.00956\teval-logloss:0.09753\n",
      "[114]\ttrain-logloss:0.00950\teval-logloss:0.09695\n",
      "[115]\ttrain-logloss:0.00942\teval-logloss:0.09634\n",
      "[116]\ttrain-logloss:0.00936\teval-logloss:0.09642\n",
      "[117]\ttrain-logloss:0.00929\teval-logloss:0.09622\n",
      "[118]\ttrain-logloss:0.00924\teval-logloss:0.09623\n",
      "[119]\ttrain-logloss:0.00915\teval-logloss:0.09639\n",
      "[120]\ttrain-logloss:0.00909\teval-logloss:0.09601\n",
      "[121]\ttrain-logloss:0.00903\teval-logloss:0.09586\n",
      "[122]\ttrain-logloss:0.00893\teval-logloss:0.09621\n",
      "[123]\ttrain-logloss:0.00890\teval-logloss:0.09606\n",
      "[124]\ttrain-logloss:0.00882\teval-logloss:0.09622\n",
      "[125]\ttrain-logloss:0.00879\teval-logloss:0.09615\n",
      "[126]\ttrain-logloss:0.00874\teval-logloss:0.09578\n",
      "[127]\ttrain-logloss:0.00864\teval-logloss:0.09613\n",
      "[128]\ttrain-logloss:0.00857\teval-logloss:0.09610\n",
      "[129]\ttrain-logloss:0.00849\teval-logloss:0.09625\n",
      "[130]\ttrain-logloss:0.00847\teval-logloss:0.09613\n",
      "[131]\ttrain-logloss:0.00841\teval-logloss:0.09567\n",
      "[132]\ttrain-logloss:0.00838\teval-logloss:0.09560\n",
      "[133]\ttrain-logloss:0.00832\teval-logloss:0.09545\n",
      "[134]\ttrain-logloss:0.00829\teval-logloss:0.09517\n",
      "[135]\ttrain-logloss:0.00825\teval-logloss:0.09491\n",
      "[136]\ttrain-logloss:0.00820\teval-logloss:0.09443\n",
      "[137]\ttrain-logloss:0.00817\teval-logloss:0.09437\n",
      "[138]\ttrain-logloss:0.00810\teval-logloss:0.09452\n",
      "[139]\ttrain-logloss:0.00804\teval-logloss:0.09452\n",
      "[140]\ttrain-logloss:0.00797\teval-logloss:0.09469\n",
      "[141]\ttrain-logloss:0.00790\teval-logloss:0.09485\n",
      "[142]\ttrain-logloss:0.00788\teval-logloss:0.09459\n",
      "[143]\ttrain-logloss:0.00784\teval-logloss:0.09435\n",
      "[144]\ttrain-logloss:0.00777\teval-logloss:0.09471\n",
      "[145]\ttrain-logloss:0.00775\teval-logloss:0.09466\n",
      "[146]\ttrain-logloss:0.00773\teval-logloss:0.09442\n",
      "[147]\ttrain-logloss:0.00769\teval-logloss:0.09434\n",
      "[148]\ttrain-logloss:0.00766\teval-logloss:0.09453\n",
      "[149]\ttrain-logloss:0.00764\teval-logloss:0.09438\n",
      "[150]\ttrain-logloss:0.00759\teval-logloss:0.09454\n",
      "[151]\ttrain-logloss:0.00756\teval-logloss:0.09449\n",
      "[152]\ttrain-logloss:0.00754\teval-logloss:0.09425\n",
      "[153]\ttrain-logloss:0.00751\teval-logloss:0.09423\n",
      "[154]\ttrain-logloss:0.00745\teval-logloss:0.09420\n",
      "[155]\ttrain-logloss:0.00743\teval-logloss:0.09432\n",
      "[156]\ttrain-logloss:0.00741\teval-logloss:0.09450\n",
      "[157]\ttrain-logloss:0.00739\teval-logloss:0.09436\n",
      "[158]\ttrain-logloss:0.00737\teval-logloss:0.09404\n"
     ]
    },
    {
     "name": "stdout",
     "output_type": "stream",
     "text": [
      "[159]\ttrain-logloss:0.00735\teval-logloss:0.09399\n",
      "[160]\ttrain-logloss:0.00733\teval-logloss:0.09410\n",
      "[161]\ttrain-logloss:0.00731\teval-logloss:0.09396\n",
      "[162]\ttrain-logloss:0.00729\teval-logloss:0.09391\n",
      "[163]\ttrain-logloss:0.00727\teval-logloss:0.09367\n",
      "[164]\ttrain-logloss:0.00724\teval-logloss:0.09366\n",
      "[165]\ttrain-logloss:0.00722\teval-logloss:0.09384\n",
      "[166]\ttrain-logloss:0.00720\teval-logloss:0.09370\n",
      "[167]\ttrain-logloss:0.00718\teval-logloss:0.09348\n",
      "[168]\ttrain-logloss:0.00716\teval-logloss:0.09334\n",
      "[169]\ttrain-logloss:0.00715\teval-logloss:0.09345\n",
      "[170]\ttrain-logloss:0.00713\teval-logloss:0.09334\n",
      "[171]\ttrain-logloss:0.00711\teval-logloss:0.09304\n",
      "[172]\ttrain-logloss:0.00709\teval-logloss:0.09304\n",
      "[173]\ttrain-logloss:0.00707\teval-logloss:0.09314\n",
      "[174]\ttrain-logloss:0.00705\teval-logloss:0.09300\n",
      "[175]\ttrain-logloss:0.00704\teval-logloss:0.09278\n",
      "[176]\ttrain-logloss:0.00702\teval-logloss:0.09274\n",
      "[177]\ttrain-logloss:0.00700\teval-logloss:0.09292\n",
      "[178]\ttrain-logloss:0.00698\teval-logloss:0.09291\n",
      "[179]\ttrain-logloss:0.00697\teval-logloss:0.09280\n",
      "[180]\ttrain-logloss:0.00695\teval-logloss:0.09297\n",
      "[181]\ttrain-logloss:0.00694\teval-logloss:0.09283\n",
      "[182]\ttrain-logloss:0.00692\teval-logloss:0.09261\n",
      "[183]\ttrain-logloss:0.00690\teval-logloss:0.09257\n",
      "[184]\ttrain-logloss:0.00688\teval-logloss:0.09268\n",
      "[185]\ttrain-logloss:0.00687\teval-logloss:0.09254\n",
      "[186]\ttrain-logloss:0.00685\teval-logloss:0.09226\n",
      "[187]\ttrain-logloss:0.00684\teval-logloss:0.09213\n",
      "[188]\ttrain-logloss:0.00682\teval-logloss:0.09224\n",
      "[189]\ttrain-logloss:0.00680\teval-logloss:0.09186\n",
      "[190]\ttrain-logloss:0.00679\teval-logloss:0.09182\n",
      "[191]\ttrain-logloss:0.00677\teval-logloss:0.09169\n",
      "[192]\ttrain-logloss:0.00676\teval-logloss:0.09186\n",
      "[193]\ttrain-logloss:0.00674\teval-logloss:0.09185\n",
      "[194]\ttrain-logloss:0.00673\teval-logloss:0.09148\n",
      "[195]\ttrain-logloss:0.00671\teval-logloss:0.09148\n",
      "[196]\ttrain-logloss:0.00670\teval-logloss:0.09158\n",
      "[197]\ttrain-logloss:0.00668\teval-logloss:0.09145\n",
      "[198]\ttrain-logloss:0.00667\teval-logloss:0.09126\n",
      "[199]\ttrain-logloss:0.00665\teval-logloss:0.09122\n",
      "[200]\ttrain-logloss:0.00664\teval-logloss:0.09119\n",
      "[201]\ttrain-logloss:0.00662\teval-logloss:0.09129\n",
      "[202]\ttrain-logloss:0.00661\teval-logloss:0.09128\n",
      "[203]\ttrain-logloss:0.00660\teval-logloss:0.09092\n",
      "[204]\ttrain-logloss:0.00658\teval-logloss:0.09108\n",
      "[205]\ttrain-logloss:0.00657\teval-logloss:0.09095\n",
      "[206]\ttrain-logloss:0.00655\teval-logloss:0.09061\n",
      "[207]\ttrain-logloss:0.00654\teval-logloss:0.09060\n",
      "[208]\ttrain-logloss:0.00653\teval-logloss:0.09076\n",
      "[209]\ttrain-logloss:0.00651\teval-logloss:0.09076\n",
      "[210]\ttrain-logloss:0.00650\teval-logloss:0.09082\n",
      "[211]\ttrain-logloss:0.00649\teval-logloss:0.09091\n",
      "[212]\ttrain-logloss:0.00647\teval-logloss:0.09088\n",
      "[213]\ttrain-logloss:0.00646\teval-logloss:0.09070\n",
      "[214]\ttrain-logloss:0.00645\teval-logloss:0.09076\n",
      "[215]\ttrain-logloss:0.00643\teval-logloss:0.09072\n",
      "[216]\ttrain-logloss:0.00642\teval-logloss:0.09072\n",
      "[217]\ttrain-logloss:0.00641\teval-logloss:0.09038\n",
      "[218]\ttrain-logloss:0.00639\teval-logloss:0.09054\n",
      "[219]\ttrain-logloss:0.00638\teval-logloss:0.09043\n",
      "[220]\ttrain-logloss:0.00637\teval-logloss:0.09039\n",
      "[221]\ttrain-logloss:0.00636\teval-logloss:0.09039\n",
      "[222]\ttrain-logloss:0.00634\teval-logloss:0.09039\n",
      "[223]\ttrain-logloss:0.00633\teval-logloss:0.09045\n",
      "[224]\ttrain-logloss:0.00632\teval-logloss:0.09028\n",
      "[225]\ttrain-logloss:0.00631\teval-logloss:0.09029\n",
      "[226]\ttrain-logloss:0.00630\teval-logloss:0.09044\n",
      "[227]\ttrain-logloss:0.00628\teval-logloss:0.09043\n",
      "[228]\ttrain-logloss:0.00627\teval-logloss:0.09011\n",
      "[229]\ttrain-logloss:0.00626\teval-logloss:0.09017\n",
      "[230]\ttrain-logloss:0.00625\teval-logloss:0.09014\n",
      "[231]\ttrain-logloss:0.00624\teval-logloss:0.09011\n",
      "[232]\ttrain-logloss:0.00622\teval-logloss:0.09000\n",
      "[233]\ttrain-logloss:0.00621\teval-logloss:0.09015\n",
      "[234]\ttrain-logloss:0.00620\teval-logloss:0.09015\n",
      "[235]\ttrain-logloss:0.00619\teval-logloss:0.08983\n",
      "[236]\ttrain-logloss:0.00618\teval-logloss:0.08997\n",
      "[237]\ttrain-logloss:0.00617\teval-logloss:0.08997\n",
      "[238]\ttrain-logloss:0.00616\teval-logloss:0.08998\n",
      "[239]\ttrain-logloss:0.00615\teval-logloss:0.09004\n",
      "[240]\ttrain-logloss:0.00613\teval-logloss:0.08987\n",
      "[241]\ttrain-logloss:0.00612\teval-logloss:0.08985\n",
      "[242]\ttrain-logloss:0.00611\teval-logloss:0.08968\n",
      "[243]\ttrain-logloss:0.00610\teval-logloss:0.08982\n",
      "[244]\ttrain-logloss:0.00609\teval-logloss:0.08952\n",
      "[245]\ttrain-logloss:0.00608\teval-logloss:0.08952\n",
      "[246]\ttrain-logloss:0.00607\teval-logloss:0.08958\n",
      "[247]\ttrain-logloss:0.00606\teval-logloss:0.08959\n",
      "[248]\ttrain-logloss:0.00605\teval-logloss:0.08944\n",
      "[249]\ttrain-logloss:0.00604\teval-logloss:0.08941\n",
      "[250]\ttrain-logloss:0.00603\teval-logloss:0.08947\n",
      "[251]\ttrain-logloss:0.00602\teval-logloss:0.08944\n",
      "[252]\ttrain-logloss:0.00601\teval-logloss:0.08944\n",
      "[253]\ttrain-logloss:0.00600\teval-logloss:0.08958\n",
      "[254]\ttrain-logloss:0.00599\teval-logloss:0.08942\n",
      "[255]\ttrain-logloss:0.00598\teval-logloss:0.08956\n",
      "[256]\ttrain-logloss:0.00597\teval-logloss:0.08929\n",
      "[257]\ttrain-logloss:0.00596\teval-logloss:0.08930\n",
      "[258]\ttrain-logloss:0.00595\teval-logloss:0.08935\n",
      "[259]\ttrain-logloss:0.00594\teval-logloss:0.08932\n",
      "[260]\ttrain-logloss:0.00593\teval-logloss:0.08930\n",
      "[261]\ttrain-logloss:0.00592\teval-logloss:0.08915\n",
      "[262]\ttrain-logloss:0.00591\teval-logloss:0.08928\n",
      "[263]\ttrain-logloss:0.00590\teval-logloss:0.08912\n",
      "[264]\ttrain-logloss:0.00589\teval-logloss:0.08918\n",
      "[265]\ttrain-logloss:0.00588\teval-logloss:0.08915\n",
      "[266]\ttrain-logloss:0.00588\teval-logloss:0.08915\n",
      "[267]\ttrain-logloss:0.00587\teval-logloss:0.08928\n",
      "[268]\ttrain-logloss:0.00586\teval-logloss:0.08913\n",
      "[269]\ttrain-logloss:0.00585\teval-logloss:0.08926\n",
      "[270]\ttrain-logloss:0.00584\teval-logloss:0.08898\n",
      "[271]\ttrain-logloss:0.00583\teval-logloss:0.08896\n",
      "[272]\ttrain-logloss:0.00582\teval-logloss:0.08897\n",
      "[273]\ttrain-logloss:0.00581\teval-logloss:0.08902\n",
      "[274]\ttrain-logloss:0.00580\teval-logloss:0.08896\n",
      "[275]\ttrain-logloss:0.00580\teval-logloss:0.08881\n",
      "[276]\ttrain-logloss:0.00579\teval-logloss:0.08894\n",
      "[277]\ttrain-logloss:0.00578\teval-logloss:0.08868\n",
      "[278]\ttrain-logloss:0.00577\teval-logloss:0.08874\n",
      "[279]\ttrain-logloss:0.00576\teval-logloss:0.08879\n",
      "[280]\ttrain-logloss:0.00575\teval-logloss:0.08874\n",
      "[281]\ttrain-logloss:0.00575\teval-logloss:0.08874\n",
      "[282]\ttrain-logloss:0.00574\teval-logloss:0.08887\n",
      "[283]\ttrain-logloss:0.00573\teval-logloss:0.08872\n",
      "[284]\ttrain-logloss:0.00572\teval-logloss:0.08875\n",
      "[285]\ttrain-logloss:0.00571\teval-logloss:0.08875\n",
      "[286]\ttrain-logloss:0.00571\teval-logloss:0.08851\n",
      "[287]\ttrain-logloss:0.00570\teval-logloss:0.08852\n",
      "[288]\ttrain-logloss:0.00569\teval-logloss:0.08864\n",
      "[289]\ttrain-logloss:0.00568\teval-logloss:0.08859\n",
      "[290]\ttrain-logloss:0.00567\teval-logloss:0.08865\n",
      "[291]\ttrain-logloss:0.00566\teval-logloss:0.08868\n",
      "[292]\ttrain-logloss:0.00566\teval-logloss:0.08854\n",
      "[293]\ttrain-logloss:0.00565\teval-logloss:0.08866\n",
      "[294]\ttrain-logloss:0.00564\teval-logloss:0.08843\n",
      "[295]\ttrain-logloss:0.00563\teval-logloss:0.08843\n",
      "[296]\ttrain-logloss:0.00563\teval-logloss:0.08838\n",
      "[297]\ttrain-logloss:0.00562\teval-logloss:0.08843\n",
      "[298]\ttrain-logloss:0.00561\teval-logloss:0.08842\n",
      "[299]\ttrain-logloss:0.00560\teval-logloss:0.08842\n",
      "[300]\ttrain-logloss:0.00560\teval-logloss:0.08854\n",
      "[301]\ttrain-logloss:0.00559\teval-logloss:0.08840\n",
      "[302]\ttrain-logloss:0.00558\teval-logloss:0.08816\n",
      "[303]\ttrain-logloss:0.00557\teval-logloss:0.08828\n",
      "[304]\ttrain-logloss:0.00557\teval-logloss:0.08823\n",
      "[305]\ttrain-logloss:0.00556\teval-logloss:0.08825\n",
      "[306]\ttrain-logloss:0.00555\teval-logloss:0.08826\n",
      "[307]\ttrain-logloss:0.00554\teval-logloss:0.08826\n",
      "[308]\ttrain-logloss:0.00554\teval-logloss:0.08813\n",
      "[309]\ttrain-logloss:0.00553\teval-logloss:0.08825\n",
      "[310]\ttrain-logloss:0.00552\teval-logloss:0.08801\n",
      "[311]\ttrain-logloss:0.00552\teval-logloss:0.08791\n",
      "[312]\ttrain-logloss:0.00551\teval-logloss:0.08794\n",
      "[313]\ttrain-logloss:0.00550\teval-logloss:0.08789\n",
      "[314]\ttrain-logloss:0.00550\teval-logloss:0.08790\n",
      "[315]\ttrain-logloss:0.00549\teval-logloss:0.08795\n",
      "[316]\ttrain-logloss:0.00548\teval-logloss:0.08781\n",
      "[317]\ttrain-logloss:0.00548\teval-logloss:0.08793\n",
      "[318]\ttrain-logloss:0.00547\teval-logloss:0.08780\n",
      "[319]\ttrain-logloss:0.00546\teval-logloss:0.08783\n",
      "[320]\ttrain-logloss:0.00546\teval-logloss:0.08778\n",
      "[321]\ttrain-logloss:0.00545\teval-logloss:0.08755\n",
      "[322]\ttrain-logloss:0.00544\teval-logloss:0.08767\n",
      "[323]\ttrain-logloss:0.00544\teval-logloss:0.08754\n",
      "[324]\ttrain-logloss:0.00543\teval-logloss:0.08753\n",
      "[325]\ttrain-logloss:0.00542\teval-logloss:0.08757\n",
      "[326]\ttrain-logloss:0.00542\teval-logloss:0.08758\n"
     ]
    },
    {
     "name": "stdout",
     "output_type": "stream",
     "text": [
      "[327]\ttrain-logloss:0.00541\teval-logloss:0.08754\n",
      "[328]\ttrain-logloss:0.00541\teval-logloss:0.08756\n",
      "[329]\ttrain-logloss:0.00540\teval-logloss:0.08736\n",
      "[330]\ttrain-logloss:0.00539\teval-logloss:0.08747\n",
      "[331]\ttrain-logloss:0.00539\teval-logloss:0.08735\n",
      "[332]\ttrain-logloss:0.00538\teval-logloss:0.08735\n",
      "[333]\ttrain-logloss:0.00537\teval-logloss:0.08722\n",
      "[334]\ttrain-logloss:0.00537\teval-logloss:0.08717\n",
      "[335]\ttrain-logloss:0.00536\teval-logloss:0.08728\n",
      "[336]\ttrain-logloss:0.00536\teval-logloss:0.08716\n",
      "[337]\ttrain-logloss:0.00535\teval-logloss:0.08718\n",
      "[338]\ttrain-logloss:0.00534\teval-logloss:0.08719\n",
      "[339]\ttrain-logloss:0.00534\teval-logloss:0.08719\n",
      "[340]\ttrain-logloss:0.00533\teval-logloss:0.08730\n",
      "[341]\ttrain-logloss:0.00533\teval-logloss:0.08718\n",
      "[342]\ttrain-logloss:0.00532\teval-logloss:0.08705\n",
      "[343]\ttrain-logloss:0.00532\teval-logloss:0.08701\n",
      "[344]\ttrain-logloss:0.00531\teval-logloss:0.08706\n",
      "[345]\ttrain-logloss:0.00530\teval-logloss:0.08716\n",
      "[346]\ttrain-logloss:0.00530\teval-logloss:0.08704\n",
      "[347]\ttrain-logloss:0.00529\teval-logloss:0.08707\n",
      "[348]\ttrain-logloss:0.00529\teval-logloss:0.08702\n",
      "[349]\ttrain-logloss:0.00528\teval-logloss:0.08703\n",
      "[350]\ttrain-logloss:0.00528\teval-logloss:0.08682\n",
      "[351]\ttrain-logloss:0.00527\teval-logloss:0.08693\n",
      "[352]\ttrain-logloss:0.00527\teval-logloss:0.08693\n",
      "[353]\ttrain-logloss:0.00526\teval-logloss:0.08682\n",
      "[354]\ttrain-logloss:0.00526\teval-logloss:0.08686\n",
      "[355]\ttrain-logloss:0.00525\teval-logloss:0.08674\n",
      "[356]\ttrain-logloss:0.00524\teval-logloss:0.08670\n",
      "[357]\ttrain-logloss:0.00524\teval-logloss:0.08672\n",
      "[358]\ttrain-logloss:0.00523\teval-logloss:0.08673\n",
      "[359]\ttrain-logloss:0.00523\teval-logloss:0.08674\n",
      "[360]\ttrain-logloss:0.00522\teval-logloss:0.08684\n",
      "[361]\ttrain-logloss:0.00522\teval-logloss:0.08673\n",
      "[362]\ttrain-logloss:0.00521\teval-logloss:0.08669\n",
      "[363]\ttrain-logloss:0.00521\teval-logloss:0.08671\n",
      "[364]\ttrain-logloss:0.00520\teval-logloss:0.08659\n",
      "[365]\ttrain-logloss:0.00520\teval-logloss:0.08648\n",
      "[366]\ttrain-logloss:0.00519\teval-logloss:0.08659\n",
      "[367]\ttrain-logloss:0.00519\teval-logloss:0.08660\n",
      "[368]\ttrain-logloss:0.00518\teval-logloss:0.08660\n",
      "[369]\ttrain-logloss:0.00518\teval-logloss:0.08671\n",
      "[370]\ttrain-logloss:0.00517\teval-logloss:0.08660\n",
      "[371]\ttrain-logloss:0.00517\teval-logloss:0.08657\n",
      "[372]\ttrain-logloss:0.00516\teval-logloss:0.08659\n",
      "[373]\ttrain-logloss:0.00516\teval-logloss:0.08660\n",
      "[374]\ttrain-logloss:0.00515\teval-logloss:0.08661\n",
      "[375]\ttrain-logloss:0.00515\teval-logloss:0.08671\n",
      "[376]\ttrain-logloss:0.00514\teval-logloss:0.08651\n",
      "[377]\ttrain-logloss:0.00514\teval-logloss:0.08640\n",
      "[378]\ttrain-logloss:0.00513\teval-logloss:0.08650\n",
      "[379]\ttrain-logloss:0.00513\teval-logloss:0.08640\n",
      "[380]\ttrain-logloss:0.00512\teval-logloss:0.08649\n",
      "[381]\ttrain-logloss:0.00512\teval-logloss:0.08646\n",
      "[382]\ttrain-logloss:0.00511\teval-logloss:0.08648\n",
      "[383]\ttrain-logloss:0.00511\teval-logloss:0.08649\n",
      "[384]\ttrain-logloss:0.00511\teval-logloss:0.08650\n",
      "[385]\ttrain-logloss:0.00510\teval-logloss:0.08631\n",
      "[386]\ttrain-logloss:0.00510\teval-logloss:0.08632\n",
      "[387]\ttrain-logloss:0.00509\teval-logloss:0.08641\n",
      "[388]\ttrain-logloss:0.00509\teval-logloss:0.08631\n",
      "[389]\ttrain-logloss:0.00508\teval-logloss:0.08633\n",
      "[390]\ttrain-logloss:0.00508\teval-logloss:0.08630\n",
      "[391]\ttrain-logloss:0.00507\teval-logloss:0.08639\n",
      "[392]\ttrain-logloss:0.00507\teval-logloss:0.08628\n",
      "[393]\ttrain-logloss:0.00506\teval-logloss:0.08629\n",
      "[394]\ttrain-logloss:0.00506\teval-logloss:0.08632\n",
      "[395]\ttrain-logloss:0.00506\teval-logloss:0.08622\n",
      "[396]\ttrain-logloss:0.00505\teval-logloss:0.08631\n",
      "[397]\ttrain-logloss:0.00505\teval-logloss:0.08613\n",
      "[398]\ttrain-logloss:0.00504\teval-logloss:0.08609\n",
      "[399]\ttrain-logloss:0.00504\teval-logloss:0.08610\n"
     ]
    }
   ],
   "source": [
    "xgb_model = xgb.train(params=params, dtrain=dtrain, num_boost_round=num_rounds,\n",
    "                     early_stopping_rounds=100,evals=wlist)"
   ]
  },
  {
   "cell_type": "code",
   "execution_count": 38,
   "metadata": {},
   "outputs": [],
   "source": [
    "pred_probs = xgb_model.predict(dtest)"
   ]
  },
  {
   "cell_type": "code",
   "execution_count": 44,
   "metadata": {},
   "outputs": [],
   "source": [
    "preds = [1 if x>=0.5 else 0 for x in pred_probs ]"
   ]
  },
  {
   "cell_type": "code",
   "execution_count": 48,
   "metadata": {},
   "outputs": [],
   "source": [
    "from sklearn.metrics import accuracy_score,f1_score,recall_score,precision_score\n",
    "from sklearn.metrics import confusion_matrix, roc_auc_score"
   ]
  },
  {
   "cell_type": "code",
   "execution_count": 49,
   "metadata": {},
   "outputs": [
    {
     "data": {
      "text/plain": [
       "array([[40,  3],\n",
       "       [ 0, 71]], dtype=int64)"
      ]
     },
     "execution_count": 49,
     "metadata": {},
     "output_type": "execute_result"
    }
   ],
   "source": [
    "confusion_matrix(y_test,preds)"
   ]
  },
  {
   "cell_type": "code",
   "execution_count": 50,
   "metadata": {},
   "outputs": [
    {
     "data": {
      "text/plain": [
       "0.9736842105263158"
      ]
     },
     "execution_count": 50,
     "metadata": {},
     "output_type": "execute_result"
    }
   ],
   "source": [
    "accuracy_score(y_test,preds)"
   ]
  },
  {
   "cell_type": "code",
   "execution_count": 51,
   "metadata": {},
   "outputs": [
    {
     "data": {
      "text/plain": [
       "0.9793103448275862"
      ]
     },
     "execution_count": 51,
     "metadata": {},
     "output_type": "execute_result"
    }
   ],
   "source": [
    "f1_score(y_test,preds)"
   ]
  },
  {
   "cell_type": "code",
   "execution_count": 52,
   "metadata": {},
   "outputs": [
    {
     "data": {
      "text/plain": [
       "1.0"
      ]
     },
     "execution_count": 52,
     "metadata": {},
     "output_type": "execute_result"
    }
   ],
   "source": [
    "recall_score(y_test,preds)"
   ]
  },
  {
   "cell_type": "code",
   "execution_count": 53,
   "metadata": {},
   "outputs": [
    {
     "data": {
      "text/plain": [
       "0.9651162790697674"
      ]
     },
     "execution_count": 53,
     "metadata": {},
     "output_type": "execute_result"
    }
   ],
   "source": [
    "roc_auc_score(y_test,preds)"
   ]
  },
  {
   "cell_type": "code",
   "execution_count": 55,
   "metadata": {},
   "outputs": [],
   "source": [
    "from xgboost import XGBClassifier"
   ]
  },
  {
   "cell_type": "code",
   "execution_count": 58,
   "metadata": {},
   "outputs": [],
   "source": [
    "xgb_model2 = XGBClassifier(n_estimators=400,learning_rage=0.1,max_dept=3)"
   ]
  },
  {
   "cell_type": "code",
   "execution_count": 59,
   "metadata": {},
   "outputs": [
    {
     "name": "stdout",
     "output_type": "stream",
     "text": [
      "[17:44:48] WARNING: C:\\Users\\Administrator\\workspace\\xgboost-win64_release_1.2.0\\src\\learner.cc:516: \n",
      "Parameters: { learning_rage, max_dept } might not be used.\n",
      "\n",
      "  This may not be accurate due to some parameters are only used in language bindings but\n",
      "  passed down to XGBoost core.  Or some parameters are not used but slip through this\n",
      "  verification. Please open an issue if you find above cases.\n",
      "\n",
      "\n"
     ]
    },
    {
     "data": {
      "text/plain": [
       "XGBClassifier(base_score=0.5, booster='gbtree', colsample_bylevel=1,\n",
       "              colsample_bynode=1, colsample_bytree=1, gamma=0, gpu_id=-1,\n",
       "              importance_type='gain', interaction_constraints='',\n",
       "              learning_rage=0.1, learning_rate=0.300000012, max_delta_step=0,\n",
       "              max_dept=3, max_depth=6, min_child_weight=1, missing=nan,\n",
       "              monotone_constraints='()', n_estimators=400, n_jobs=0,\n",
       "              num_parallel_tree=1, random_state=0, reg_alpha=0, reg_lambda=1,\n",
       "              scale_pos_weight=1, subsample=1, tree_method='exact',\n",
       "              validate_parameters=1, verbosity=None)"
      ]
     },
     "execution_count": 59,
     "metadata": {},
     "output_type": "execute_result"
    }
   ],
   "source": [
    "xgb_model2.fit(x_train,y_train)"
   ]
  },
  {
   "cell_type": "code",
   "execution_count": 61,
   "metadata": {},
   "outputs": [],
   "source": [
    "y_pred = xgb_model2.predict(x_test)"
   ]
  },
  {
   "cell_type": "code",
   "execution_count": 63,
   "metadata": {},
   "outputs": [
    {
     "data": {
      "text/plain": [
       "0.9736842105263158"
      ]
     },
     "execution_count": 63,
     "metadata": {},
     "output_type": "execute_result"
    }
   ],
   "source": [
    "accuracy_score(y_test,y_pred)"
   ]
  },
  {
   "cell_type": "code",
   "execution_count": 64,
   "metadata": {},
   "outputs": [
    {
     "data": {
      "text/plain": [
       "0.9793103448275862"
      ]
     },
     "execution_count": 64,
     "metadata": {},
     "output_type": "execute_result"
    }
   ],
   "source": [
    "f1_score(y_test,y_pred)"
   ]
  },
  {
   "cell_type": "code",
   "execution_count": 65,
   "metadata": {},
   "outputs": [],
   "source": [
    "from xgboost import plot_importance\n",
    "import matplotlib.pyplot as plt"
   ]
  },
  {
   "cell_type": "code",
   "execution_count": 68,
   "metadata": {},
   "outputs": [
    {
     "data": {
      "text/plain": [
       "<AxesSubplot:title={'center':'Feature importance'}, xlabel='F score', ylabel='Features'>"
      ]
     },
     "execution_count": 68,
     "metadata": {},
     "output_type": "execute_result"
    },
    {
     "data": {
      "image/png": "[encoded data removed]",
      "text/plain": [
       "<Figure size 720x864 with 1 Axes>"
      ]
     },
     "metadata": {
      "needs_background": "light"
     },
     "output_type": "display_data"
    }
   ],
   "source": [
    "fig, ax=plt.subplots(figsize=(10,12))\n",
    "plot_importance(xgb_model,ax)"
   ]
  },
  {
   "cell_type": "code",
   "execution_count": null,
   "metadata": {},
   "outputs": [],
   "source": []
  },
  {
   "cell_type": "code",
   "execution_count": null,
   "metadata": {},
   "outputs": [],
   "source": []
  },
  {
   "cell_type": "code",
   "execution_count": null,
   "metadata": {},
   "outputs": [],
   "source": []
  }
 ],
 "metadata": {
  "kernelspec": {
   "display_name": "Python 3",
   "language": "python",
   "name": "python3"
  },
  "language_info": {
   "codemirror_mode": {
    "name": "ipython",
    "version": 3
   },
   "file_extension": ".py",
   "mimetype": "text/x-python",
   "name": "python",
   "nbconvert_exporter": "python",
   "pygments_lexer": "ipython3",
   "version": "3.8.5"
  },
  "toc": {
   "base_numbering": 1,
   "nav_menu": {},
   "number_sections": true,
   "sideBar": true,
   "skip_h1_title": false,
   "title_cell": "Table of Contents",
   "title_sidebar": "Contents",
   "toc_cell": false,
   "toc_position": {},
   "toc_section_display": true,
   "toc_window_display": false
  }
 },
 "nbformat": 4,
 "nbformat_minor": 4
}
